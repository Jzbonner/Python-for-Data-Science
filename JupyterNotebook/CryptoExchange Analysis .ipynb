{
 "cells": [
  {
   "cell_type": "code",
   "execution_count": 1,
   "metadata": {},
   "outputs": [
    {
     "name": "stdout",
     "output_type": "stream",
     "text": [
      "['_1broker', '_1btcxe', 'acx', 'allcoin', 'anxpro', 'anybits', 'bibox', 'binance', 'bit2c', 'bitbank', 'bitbay', 'bitfinex', 'bitfinex2', 'bitflyer', 'bithumb', 'bitkk', 'bitlish', 'bitmarket', 'bitmex', 'bitsane', 'bitso', 'bitstamp', 'bitstamp1', 'bittrex', 'bitz', 'bl3p', 'bleutrade', 'braziliex', 'btcbox', 'btcchina', 'btcexchange', 'btcmarkets', 'btctradeim', 'btctradeua', 'btcturk', 'btcx', 'bxinth', 'ccex', 'cex', 'chbtc', 'chilebit', 'cobinhood', 'coinbase', 'coinbasepro', 'coincheck', 'coinegg', 'coinex', 'coinexchange', 'coinfalcon', 'coinfloor', 'coingi', 'coinmarketcap', 'coinmate', 'coinnest', 'coinone', 'coinsecure', 'coinspot', 'cointiger', 'coolcoin', 'crypton', 'cryptopia', 'deribit', 'dsx', 'ethfinex', 'exmo', 'exx', 'fcoin', 'flowbtc', 'foxbit', 'fybse', 'fybsg', 'gatecoin', 'gateio', 'gdax', 'gemini', 'getbtc', 'hadax', 'hitbtc', 'hitbtc2', 'huobi', 'huobicny', 'huobipro', 'ice3x', 'independentreserve', 'indodax', 'itbit', 'jubi', 'kraken', 'kucoin', 'kuna', 'lakebtc', 'lbank', 'liqui', 'livecoin', 'luno', 'lykke', 'mercado', 'mixcoins', 'negociecoins', 'nova', 'okcoincny', 'okcoinusd', 'okex', 'paymium', 'poloniex', 'qryptos', 'quadrigacx', 'quoinex', 'southxchange', 'surbitcoin', 'therock', 'tidebit', 'tidex', 'urdubit', 'vaultoro', 'vbtc', 'virwox', 'wex', 'xbtce', 'yobit', 'yunbi', 'zaif', 'zb']\n"
     ]
    }
   ],
   "source": [
    "# An implementaion of how to display all of the exchanges and market data sources that \n",
    "# are available on the CCXT trading library.\n",
    "\n",
    "import ccxt\n",
    "print(ccxt.exchanges)"
   ]
  },
  {
   "cell_type": "code",
   "execution_count": 43,
   "metadata": {},
   "outputs": [
    {
     "name": "stdout",
     "output_type": "stream",
     "text": [
      "gemini ['BTC/USD', 'ETH/BTC', 'ETH/USD', 'ZEC/BTC', 'ZEC/ETH', 'ZEC/USD']\n"
     ]
    }
   ],
   "source": [
    "# An example of how to instantiate and load an exchange to see all of the tickers available for \n",
    "# trade on the exchange. \n",
    "\n",
    "import ccxt\n",
    "\n",
    "exchange = ccxt.gemini()\n",
    "markets = exchange.load_markets() \n",
    "symbols = exchange.symbols\n",
    "\n",
    "\n",
    "print(exchange.id, symbols)"
   ]
  },
  {
   "cell_type": "code",
   "execution_count": 46,
   "metadata": {},
   "outputs": [
    {
     "name": "stdout",
     "output_type": "stream",
     "text": [
      "Rate Limit for Gemini Exchange:  1500\n",
      "gemini BTC/USD market price:\n",
      " {'bid': 6594.61, 'ask': 6598.83, 'spread': 4.220000000000255}\n",
      "gemini ETH/BTC market price:\n",
      " {'bid': 0.0712, 'ask': 0.07139, 'spread': 0.00018999999999999573}\n",
      "gemini ETH/USD market price:\n",
      " {'bid': 469.38, 'ask': 470.2, 'spread': 0.8199999999999932}\n",
      "gemini ZEC/USD market price:\n",
      " {'bid': 174.08, 'ask': 175.0, 'spread': 0.9199999999999875}\n",
      "gemini ZEC/BTC market price:\n",
      " {'bid': 0.02642, 'ask': 0.02651, 'spread': 8.99999999999998e-05}\n",
      "gemini ZEC/ETH market price:\n",
      " {'bid': 0.3637, 'ask': 0.3785, 'spread': 0.01479999999999998}\n"
     ]
    }
   ],
   "source": [
    "# implementation of bid, ask and spread data based on exchanges generated from \n",
    "# the ccxt trading library system; specifaclly 'Gemini Exchange'\n",
    "\n",
    "import ccxt\n",
    "import time\n",
    "\n",
    "exchange = ccxt.gemini()\n",
    "exchange.load_markets()\n",
    "print('Rate Limit for Gemini Exchange: ', exchange.rateLimit)\n",
    "delay_seconds = exchange.rateLimit/ 1000\n",
    "symbols = dict()\n",
    "\n",
    "\n",
    "for symbol in exchange.markets: \n",
    "\n",
    "    start_time = time.clock() \n",
    "    orderbook = exchange.fetch_order_book(symbol)\n",
    "    bid = orderbook['bids'][0][0] if len(orderbook['bids']) > 0 else None\n",
    "    ask = orderbook['asks'][0][0] if len(orderbook['asks']) > 0 else None\n",
    "    spread = (ask - bid) if (bid and ask) else None\n",
    "    market_price = {\n",
    "        'bid' : bid, \n",
    "        'ask' : ask, \n",
    "        'spread' : spread\n",
    "    }\n",
    "    \n",
    "    symbols[symbol] = market_price\n",
    "    print(exchange.id, symbol, 'market price:\\n', market_price)\n",
    "    time.sleep(delay_seconds - (time.clock() - start_time))"
   ]
  },
  {
   "cell_type": "code",
   "execution_count": 25,
   "metadata": {},
   "outputs": [
    {
     "name": "stdout",
     "output_type": "stream",
     "text": [
      "Gemini Exchange OHLCV Information for BTC/USD\n"
     ]
    },
    {
     "data": {
      "text/html": [
       "<div>\n",
       "<style scoped>\n",
       "    .dataframe tbody tr th:only-of-type {\n",
       "        vertical-align: middle;\n",
       "    }\n",
       "\n",
       "    .dataframe tbody tr th {\n",
       "        vertical-align: top;\n",
       "    }\n",
       "\n",
       "    .dataframe thead th {\n",
       "        text-align: right;\n",
       "    }\n",
       "</style>\n",
       "<table border=\"1\" class=\"dataframe\">\n",
       "  <thead>\n",
       "    <tr style=\"text-align: right;\">\n",
       "      <th></th>\n",
       "      <th>Index</th>\n",
       "      <th>Open</th>\n",
       "      <th>High</th>\n",
       "      <th>Low</th>\n",
       "      <th>Close</th>\n",
       "      <th>Volume</th>\n",
       "    </tr>\n",
       "  </thead>\n",
       "  <tbody>\n",
       "    <tr>\n",
       "      <th>0</th>\n",
       "      <td>1531175520000</td>\n",
       "      <td>6694.63</td>\n",
       "      <td>6694.63</td>\n",
       "      <td>6694.63</td>\n",
       "      <td>6694.63</td>\n",
       "      <td>0.017894</td>\n",
       "    </tr>\n",
       "    <tr>\n",
       "      <th>1</th>\n",
       "      <td>1531175580000</td>\n",
       "      <td>6690.00</td>\n",
       "      <td>6692.10</td>\n",
       "      <td>6690.00</td>\n",
       "      <td>6692.10</td>\n",
       "      <td>0.053978</td>\n",
       "    </tr>\n",
       "    <tr>\n",
       "      <th>2</th>\n",
       "      <td>1531175820000</td>\n",
       "      <td>6702.53</td>\n",
       "      <td>6706.53</td>\n",
       "      <td>6696.60</td>\n",
       "      <td>6699.62</td>\n",
       "      <td>0.928007</td>\n",
       "    </tr>\n",
       "    <tr>\n",
       "      <th>3</th>\n",
       "      <td>1531175880000</td>\n",
       "      <td>6700.80</td>\n",
       "      <td>6704.66</td>\n",
       "      <td>6700.80</td>\n",
       "      <td>6704.66</td>\n",
       "      <td>1.466674</td>\n",
       "    </tr>\n",
       "    <tr>\n",
       "      <th>4</th>\n",
       "      <td>1531175940000</td>\n",
       "      <td>6701.98</td>\n",
       "      <td>6701.98</td>\n",
       "      <td>6701.98</td>\n",
       "      <td>6701.98</td>\n",
       "      <td>0.164131</td>\n",
       "    </tr>\n",
       "  </tbody>\n",
       "</table>\n",
       "</div>"
      ],
      "text/plain": [
       "           Index     Open     High      Low    Close    Volume\n",
       "0  1531175520000  6694.63  6694.63  6694.63  6694.63  0.017894\n",
       "1  1531175580000  6690.00  6692.10  6690.00  6692.10  0.053978\n",
       "2  1531175820000  6702.53  6706.53  6696.60  6699.62  0.928007\n",
       "3  1531175880000  6700.80  6704.66  6700.80  6704.66  1.466674\n",
       "4  1531175940000  6701.98  6701.98  6701.98  6701.98  0.164131"
      ]
     },
     "execution_count": 25,
     "metadata": {},
     "output_type": "execute_result"
    }
   ],
   "source": [
    "%matplotlib inline\n",
    "\n",
    "import matplotlib\n",
    "import numpy as np\n",
    "import matplotlib.pyplot as plt\n",
    "import ccxt \n",
    "import pandas as pd \n",
    "import time \n",
    "\n",
    "exchange = ccxt.gemini()\n",
    "exchange.load_markets() \n",
    "symbols = exchange.symbols\n",
    "\n",
    "print('Gemini Exchange OHLCV Information for', symbols[0])\n",
    "\n",
    "data = exchange.fetch_ohlcv(symbols[0])\n",
    "header = ['Index','Open', 'High', 'Low', 'Close', 'Volume']\n",
    "df = pd.DataFrame(data, columns=header)\n",
    "\n",
    "df.head()"
   ]
  }
 ],
 "metadata": {
  "kernelspec": {
   "display_name": "Python 3",
   "language": "python",
   "name": "python3"
  },
  "language_info": {
   "codemirror_mode": {
    "name": "ipython",
    "version": 3
   },
   "file_extension": ".py",
   "mimetype": "text/x-python",
   "name": "python",
   "nbconvert_exporter": "python",
   "pygments_lexer": "ipython3",
   "version": "3.6.6"
  }
 },
 "nbformat": 4,
 "nbformat_minor": 2
}
