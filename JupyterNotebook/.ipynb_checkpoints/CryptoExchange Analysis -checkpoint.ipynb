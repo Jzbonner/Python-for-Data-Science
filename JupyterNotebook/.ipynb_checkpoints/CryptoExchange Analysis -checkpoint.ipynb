{
 "cells": [
  {
   "cell_type": "code",
   "execution_count": 1,
   "metadata": {},
   "outputs": [
    {
     "name": "stdout",
     "output_type": "stream",
     "text": [
      "['_1broker', '_1btcxe', 'acx', 'allcoin', 'anxpro', 'anybits', 'bibox', 'binance', 'bit2c', 'bitbank', 'bitbay', 'bitfinex', 'bitfinex2', 'bitflyer', 'bithumb', 'bitkk', 'bitlish', 'bitmarket', 'bitmex', 'bitsane', 'bitso', 'bitstamp', 'bitstamp1', 'bittrex', 'bitz', 'bl3p', 'bleutrade', 'braziliex', 'btcbox', 'btcchina', 'btcexchange', 'btcmarkets', 'btctradeim', 'btctradeua', 'btcturk', 'btcx', 'bxinth', 'ccex', 'cex', 'chbtc', 'chilebit', 'cobinhood', 'coinbase', 'coinbasepro', 'coincheck', 'coinegg', 'coinex', 'coinexchange', 'coinfalcon', 'coinfloor', 'coingi', 'coinmarketcap', 'coinmate', 'coinnest', 'coinone', 'coinsecure', 'coinspot', 'cointiger', 'coolcoin', 'crypton', 'cryptopia', 'deribit', 'dsx', 'ethfinex', 'exmo', 'exx', 'fcoin', 'flowbtc', 'foxbit', 'fybse', 'fybsg', 'gatecoin', 'gateio', 'gdax', 'gemini', 'getbtc', 'hadax', 'hitbtc', 'hitbtc2', 'huobi', 'huobicny', 'huobipro', 'ice3x', 'independentreserve', 'indodax', 'itbit', 'jubi', 'kraken', 'kucoin', 'kuna', 'lakebtc', 'lbank', 'liqui', 'livecoin', 'luno', 'lykke', 'mercado', 'mixcoins', 'negociecoins', 'nova', 'okcoincny', 'okcoinusd', 'okex', 'paymium', 'poloniex', 'qryptos', 'quadrigacx', 'quoinex', 'southxchange', 'surbitcoin', 'therock', 'tidebit', 'tidex', 'urdubit', 'vaultoro', 'vbtc', 'virwox', 'wex', 'xbtce', 'yobit', 'yunbi', 'zaif', 'zb']\n"
     ]
    }
   ],
   "source": [
    "# An implementaion of how to display all of the exchanges and market data sources that \n",
    "# are available on the CCXT trading library.\n",
    "\n",
    "import ccxt\n",
    "print(ccxt.exchanges)"
   ]
  },
  {
   "cell_type": "code",
   "execution_count": 43,
   "metadata": {},
   "outputs": [
    {
     "name": "stdout",
     "output_type": "stream",
     "text": [
      "gemini ['BTC/USD', 'ETH/BTC', 'ETH/USD', 'ZEC/BTC', 'ZEC/ETH', 'ZEC/USD']\n"
     ]
    }
   ],
   "source": [
    "# An example of how to instantiate and load an exchange to see all of the tickers available for \n",
    "# trade on the exchange. \n",
    "\n",
    "import ccxt\n",
    "\n",
    "exchange = ccxt.gemini()\n",
    "markets = exchange.load_markets() \n",
    "symbols = exchange.symbols\n",
    "\n",
    "\n",
    "print(exchange.id, symbols)"
   ]
  },
  {
   "cell_type": "code",
   "execution_count": 46,
   "metadata": {},
   "outputs": [
    {
     "name": "stdout",
     "output_type": "stream",
     "text": [
      "Rate Limit for Gemini Exchange:  1500\n",
      "gemini BTC/USD market price:\n",
      " {'bid': 6594.61, 'ask': 6598.83, 'spread': 4.220000000000255}\n",
      "gemini ETH/BTC market price:\n",
      " {'bid': 0.0712, 'ask': 0.07139, 'spread': 0.00018999999999999573}\n",
      "gemini ETH/USD market price:\n",
      " {'bid': 469.38, 'ask': 470.2, 'spread': 0.8199999999999932}\n",
      "gemini ZEC/USD market price:\n",
      " {'bid': 174.08, 'ask': 175.0, 'spread': 0.9199999999999875}\n",
      "gemini ZEC/BTC market price:\n",
      " {'bid': 0.02642, 'ask': 0.02651, 'spread': 8.99999999999998e-05}\n",
      "gemini ZEC/ETH market price:\n",
      " {'bid': 0.3637, 'ask': 0.3785, 'spread': 0.01479999999999998}\n"
     ]
    }
   ],
   "source": [
    "# implementation of bid, ask and spread data based on exchanges generated from \n",
    "# the ccxt trading library system; specifaclly 'Gemini Exchange'\n",
    "\n",
    "import ccxt\n",
    "import time\n",
    "\n",
    "exchange = ccxt.gemini()\n",
    "exchange.load_markets()\n",
    "print('Rate Limit for Gemini Exchange: ', exchange.rateLimit)\n",
    "delay_seconds = exchange.rateLimit/ 1000\n",
    "symbols = dict()\n",
    "\n",
    "\n",
    "for symbol in exchange.markets: \n",
    "\n",
    "    start_time = time.clock() \n",
    "    orderbook = exchange.fetch_order_book(symbol)\n",
    "    bid = orderbook['bids'][0][0] if len(orderbook['bids']) > 0 else None\n",
    "    ask = orderbook['asks'][0][0] if len(orderbook['asks']) > 0 else None\n",
    "    spread = (ask - bid) if (bid and ask) else None\n",
    "    market_price = {\n",
    "        'bid' : bid, \n",
    "        'ask' : ask, \n",
    "        'spread' : spread\n",
    "    }\n",
    "    \n",
    "    symbols[symbol] = market_price\n",
    "    print(exchange.id, symbol, 'market price:\\n', market_price)\n",
    "    time.sleep(delay_seconds - (time.clock() - start_time))"
   ]
  },
  {
   "cell_type": "code",
   "execution_count": 53,
   "metadata": {},
   "outputs": [
    {
     "name": "stdout",
     "output_type": "stream",
     "text": [
      "Gemini Exchange Information for BTC/USD\n"
     ]
    },
    {
     "data": {
      "text/html": [
       "<div>\n",
       "<style scoped>\n",
       "    .dataframe tbody tr th:only-of-type {\n",
       "        vertical-align: middle;\n",
       "    }\n",
       "\n",
       "    .dataframe tbody tr th {\n",
       "        vertical-align: top;\n",
       "    }\n",
       "\n",
       "    .dataframe thead th {\n",
       "        text-align: right;\n",
       "    }\n",
       "</style>\n",
       "<table border=\"1\" class=\"dataframe\">\n",
       "  <thead>\n",
       "    <tr style=\"text-align: right;\">\n",
       "      <th></th>\n",
       "      <th>bid</th>\n",
       "      <th>ask</th>\n",
       "      <th>spread</th>\n",
       "    </tr>\n",
       "  </thead>\n",
       "  <tbody>\n",
       "    <tr>\n",
       "      <th>0</th>\n",
       "      <td>6662.95</td>\n",
       "      <td>6665.94</td>\n",
       "      <td>2.99</td>\n",
       "    </tr>\n",
       "  </tbody>\n",
       "</table>\n",
       "</div>"
      ],
      "text/plain": [
       "       bid      ask  spread\n",
       "0  6662.95  6665.94    2.99"
      ]
     },
     "execution_count": 53,
     "metadata": {},
     "output_type": "execute_result"
    }
   ],
   "source": [
    "%matplotlib inline\n",
    "\n",
    "import matplotlib\n",
    "import numpy as np\n",
    "import matplotlib.pyplot as plt\n",
    "import ccxt \n",
    "import pandas as pd \n",
    "import time "
   ]
  }
 ],
 "metadata": {
  "kernelspec": {
   "display_name": "Python 3",
   "language": "python",
   "name": "python3"
  },
  "language_info": {
   "codemirror_mode": {
    "name": "ipython",
    "version": 3
   },
   "file_extension": ".py",
   "mimetype": "text/x-python",
   "name": "python",
   "nbconvert_exporter": "python",
   "pygments_lexer": "ipython3",
   "version": "3.6.6"
  }
 },
 "nbformat": 4,
 "nbformat_minor": 2
}
