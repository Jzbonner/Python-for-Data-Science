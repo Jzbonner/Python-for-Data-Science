{
 "cells": [
  {
   "cell_type": "code",
   "execution_count": 16,
   "metadata": {},
   "outputs": [],
   "source": [
    "from zipline.api import order, symbol\n",
    "from zipline.finance import commission, slippage\n",
    "\n",
    "stocks = ['AAPL', 'MSFT']\n",
    "\n",
    "\n",
    "def initialize(context):\n",
    "    context.has_ordered = False\n",
    "    context.stocks = stocks\n",
    "\n",
    "    # Explicitly set the commission/slippage to the \"old\" value until we can\n",
    "    # rebuild example data.\n",
    "    # github.com/quantopian/zipline/blob/master/tests/resources/\n",
    "    # rebuild_example_data#L105\n",
    "    context.set_commission(commission.PerShare(cost=.0075, min_trade_cost=1.0))\n",
    "    context.set_slippage(slippage.VolumeShareSlippage())\n",
    "\n",
    "\n",
    "def handle_data(context, data):\n",
    "    if not context.has_ordered:\n",
    "        for stock in context.stocks:\n",
    "            order(symbol(stock), 100)\n",
    "        context.has_ordered = True\n",
    "\n",
    "\n",
    "def _test_args():\n",
    "    \"\"\"Extra arguments to use when zipline's automated tests run this example.\n",
    "    \"\"\"\n",
    "    import pandas as pd\n",
    "\n",
    "    return {\n",
    "        'start': pd.Timestamp('2008', tz='utc'),\n",
    "        'end': pd.Timestamp('2013', tz='utc'),\n",
    "    }"
   ]
  },
  {
   "cell_type": "code",
   "execution_count": null,
   "metadata": {},
   "outputs": [],
   "source": []
  }
 ],
 "metadata": {
  "kernelspec": {
   "display_name": "Python 3",
   "language": "python",
   "name": "python3"
  },
  "language_info": {
   "codemirror_mode": {
    "name": "ipython",
    "version": 3
   },
   "file_extension": ".py",
   "mimetype": "text/x-python",
   "name": "python",
   "nbconvert_exporter": "python",
   "pygments_lexer": "ipython3",
   "version": "3.5.5"
  }
 },
 "nbformat": 4,
 "nbformat_minor": 2
}
