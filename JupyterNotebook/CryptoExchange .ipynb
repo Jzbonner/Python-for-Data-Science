{
 "cells": [
  {
   "cell_type": "code",
   "execution_count": 1,
   "metadata": {},
   "outputs": [
    {
     "name": "stdout",
     "output_type": "stream",
     "text": [
      "['_1broker', '_1btcxe', 'acx', 'allcoin', 'anxpro', 'anybits', 'bibox', 'binance', 'bit2c', 'bitbank', 'bitbay', 'bitfinex', 'bitfinex2', 'bitflyer', 'bithumb', 'bitkk', 'bitlish', 'bitmarket', 'bitmex', 'bitsane', 'bitso', 'bitstamp', 'bitstamp1', 'bittrex', 'bitz', 'bl3p', 'bleutrade', 'braziliex', 'btcbox', 'btcchina', 'btcexchange', 'btcmarkets', 'btctradeim', 'btctradeua', 'btcturk', 'btcx', 'bxinth', 'ccex', 'cex', 'chbtc', 'chilebit', 'cobinhood', 'coinbase', 'coinbasepro', 'coincheck', 'coinegg', 'coinex', 'coinexchange', 'coinfalcon', 'coinfloor', 'coingi', 'coinmarketcap', 'coinmate', 'coinnest', 'coinone', 'coinsecure', 'coinspot', 'cointiger', 'coolcoin', 'crypton', 'cryptopia', 'deribit', 'dsx', 'ethfinex', 'exmo', 'exx', 'fcoin', 'flowbtc', 'foxbit', 'fybse', 'fybsg', 'gatecoin', 'gateio', 'gdax', 'gemini', 'getbtc', 'hadax', 'hitbtc', 'hitbtc2', 'huobi', 'huobicny', 'huobipro', 'ice3x', 'independentreserve', 'indodax', 'itbit', 'jubi', 'kraken', 'kucoin', 'kuna', 'lakebtc', 'lbank', 'liqui', 'livecoin', 'luno', 'lykke', 'mercado', 'mixcoins', 'negociecoins', 'nova', 'okcoincny', 'okcoinusd', 'okex', 'paymium', 'poloniex', 'qryptos', 'quadrigacx', 'quoinex', 'southxchange', 'surbitcoin', 'therock', 'tidebit', 'tidex', 'urdubit', 'vaultoro', 'vbtc', 'virwox', 'wex', 'xbtce', 'yobit', 'yunbi', 'zaif', 'zb']\n"
     ]
    }
   ],
   "source": [
    "import ccxt\n",
    "print(ccxt.exchanges)"
   ]
  },
  {
   "cell_type": "code",
   "execution_count": 16,
   "metadata": {},
   "outputs": [
    {
     "name": "stdout",
     "output_type": "stream",
     "text": [
      "{'symbol': 'BTC/USD', 'timestamp': 1530897318000, 'datetime': '2018-07-06T17:15:18.000Z', 'high': None, 'low': None, 'bid': None, 'bidVolume': None, 'ask': None, 'askVolume': None, 'vwap': None, 'open': None, 'close': 6605.84, 'last': 6605.84, 'previousClose': None, 'change': -1.1, 'percentage': None, 'average': None, 'baseVolume': None, 'quoteVolume': 5243290000.0, 'info': {'id': 'bitcoin', 'name': 'Bitcoin', 'symbol': 'BTC', 'rank': '1', 'price_usd': '6605.84', 'price_btc': '1.0', '24h_volume_usd': '5243290000.0', 'market_cap_usd': '113187104896', 'available_supply': '17134400.0', 'total_supply': '17134400.0', 'max_supply': '21000000.0', 'percent_change_1h': '-0.12', 'percent_change_24h': '-1.1', 'percent_change_7d': '11.39', 'last_updated': '1530897318'}}\n"
     ]
    }
   ],
   "source": [
    "import ccxt\n",
    "\n",
    "exchange = ccxt.coinmarketcap()\n",
    "coinmarketcap1 = ccxt.coinmarketcap({ 'id' : 'coinmarketcap1'})\n",
    "coinmarkectcap2 = ccxt.coinmarketcap({ 'id' : 'coinmarketcap2'})\n",
    "id = 'coinmarketcap'\n",
    "coinmarketcap = eval('ccxt.%s()' % id)\n",
    "gdax = getattr(ccxt, 'coinmarketcap')()\n",
    "\n",
    "print(exchange.fetch_ticker('BTC/USD'))"
   ]
  },
  {
   "cell_type": "code",
   "execution_count": 35,
   "metadata": {},
   "outputs": [
    {
     "name": "stdout",
     "output_type": "stream",
     "text": [
      "gemini BTC/USD market price:\n",
      " {'bid': 6601.42, 'ask': 6601.43, 'spread': 0.010000000000218279}\n",
      "gemini ETH/BTC market price:\n",
      " {'bid': 0.07147, 'ask': 0.07173, 'spread': 0.00025999999999999635}\n",
      "gemini ETH/USD market price:\n",
      " {'bid': 472.47, 'ask': 473.05, 'spread': 0.5799999999999841}\n",
      "gemini ZEC/USD market price:\n",
      " {'bid': 170.97, 'ask': 171.77, 'spread': 0.8000000000000114}\n",
      "gemini ZEC/BTC market price:\n",
      " {'bid': 0.02587, 'ask': 0.026, 'spread': 0.00012999999999999817}\n",
      "gemini ZEC/ETH market price:\n",
      " {'bid': 0.3615, 'ask': 0.3676, 'spread': 0.006099999999999994}\n",
      "gemini BTC/USD market price:\n",
      " {'bid': 6599.94, 'ask': 6600.43, 'spread': 0.4900000000006912}\n",
      "{'bid': -1.480000000000473, 'ask': -1.0, 'spread': 0.48000000000047294}\n",
      "gemini ETH/BTC market price:\n",
      " {'bid': 0.07152, 'ask': 0.07172, 'spread': 0.00020000000000000573}\n",
      "{'bid': 4.999999999999449e-05, 'ask': -9.999999999996123e-06, 'spread': -5.9999999999990616e-05}\n",
      "gemini ETH/USD market price:\n",
      " {'bid': 472.47, 'ask': 472.9, 'spread': 0.42999999999995}\n",
      "{'bid': 0.0, 'ask': -0.1500000000000341, 'spread': -0.1500000000000341}\n",
      "gemini ZEC/USD market price:\n",
      " {'bid': 170.97, 'ask': 171.76, 'spread': 0.789999999999992}\n",
      "{'bid': 0.0, 'ask': -0.010000000000019327, 'spread': -0.010000000000019327}\n",
      "gemini ZEC/BTC market price:\n",
      " {'bid': 0.02587, 'ask': 0.026, 'spread': 0.00012999999999999817}\n",
      "{'bid': 0.0, 'ask': 0.0, 'spread': 0.0}\n",
      "gemini ZEC/ETH market price:\n",
      " {'bid': 0.3615, 'ask': 0.3676, 'spread': 0.006099999999999994}\n",
      "{'bid': 0.0, 'ask': 0.0, 'spread': 0.0}\n",
      "gemini BTC/USD market price:\n",
      " {'bid': 6600.42, 'ask': 6600.43, 'spread': 0.010000000000218279}\n",
      "{'bid': 0.48000000000047294, 'ask': 0.0, 'spread': -0.48000000000047294}\n",
      "gemini ETH/BTC market price:\n",
      " {'bid': 0.07152, 'ask': 0.07176, 'spread': 0.0002400000000000041}\n",
      "{'bid': 0.0, 'ask': 3.999999999999837e-05, 'spread': 3.999999999999837e-05}\n",
      "gemini ETH/USD market price:\n",
      " {'bid': 472.47, 'ask': 472.9, 'spread': 0.42999999999995}\n",
      "{'bid': 0.0, 'ask': 0.0, 'spread': 0.0}\n",
      "gemini ZEC/USD market price:\n",
      " {'bid': 170.97, 'ask': 171.76, 'spread': 0.789999999999992}\n",
      "{'bid': 0.0, 'ask': 0.0, 'spread': 0.0}\n"
     ]
    },
    {
     "ename": "KeyboardInterrupt",
     "evalue": "",
     "output_type": "error",
     "traceback": [
      "\u001b[1;31m---------------------------------------------------------------------------\u001b[0m",
      "\u001b[1;31mKeyboardInterrupt\u001b[0m                         Traceback (most recent call last)",
      "\u001b[1;32m<ipython-input-35-40802d016bd2>\u001b[0m in \u001b[0;36m<module>\u001b[1;34m()\u001b[0m\n\u001b[0;32m     37\u001b[0m         \u001b[0msymbols\u001b[0m\u001b[1;33m[\u001b[0m\u001b[0msymbol\u001b[0m\u001b[1;33m]\u001b[0m \u001b[1;33m=\u001b[0m \u001b[0mmarket_price\u001b[0m\u001b[1;33m\u001b[0m\u001b[0m\n\u001b[0;32m     38\u001b[0m \u001b[1;33m\u001b[0m\u001b[0m\n\u001b[1;32m---> 39\u001b[1;33m         \u001b[0mtime\u001b[0m\u001b[1;33m.\u001b[0m\u001b[0msleep\u001b[0m\u001b[1;33m(\u001b[0m\u001b[0mdelay_seconds\u001b[0m \u001b[1;33m-\u001b[0m \u001b[1;33m(\u001b[0m\u001b[0mtime\u001b[0m\u001b[1;33m.\u001b[0m\u001b[0mclock\u001b[0m\u001b[1;33m(\u001b[0m\u001b[1;33m)\u001b[0m \u001b[1;33m-\u001b[0m \u001b[0mstart_time\u001b[0m\u001b[1;33m)\u001b[0m\u001b[1;33m)\u001b[0m\u001b[1;33m\u001b[0m\u001b[0m\n\u001b[0m\u001b[0;32m     40\u001b[0m \u001b[1;33m\u001b[0m\u001b[0m\n\u001b[0;32m     41\u001b[0m     \u001b[0miteration\u001b[0m \u001b[1;33m+=\u001b[0m\u001b[1;36m1\u001b[0m\u001b[1;33m\u001b[0m\u001b[0m\n",
      "\u001b[1;31mKeyboardInterrupt\u001b[0m: "
     ]
    }
   ],
   "source": [
    "# implementation of bid, ask and spread data based on exchanges generated from \n",
    "# the ccxt trading library system. \n",
    "\n",
    "import ccxt\n",
    "import time\n",
    "\n",
    "exchange = ccxt.gemini()\n",
    "exchange.load_markets()\n",
    "delay_seconds = exchange.rateLimit / 1000\n",
    "\n",
    "symbols = dict()\n",
    "\n",
    "iteration = 0 \n",
    "while True: \n",
    "    \n",
    "    for symbol in exchange.markets: \n",
    "        \n",
    "        start_time = time.clock() \n",
    "        orderbook = exchange.fetch_order_book(symbol)\n",
    "        bid = orderbook['bids'][0][0] if len(orderbook['bids']) > 0 else None\n",
    "        ask = orderbook['asks'][0][0] if len(orderbook['asks']) > 0 else None\n",
    "        spread = (ask - bid) if (bid and ask) else None\n",
    "        market_price = {\n",
    "            'bid' : bid, \n",
    "            'ask' : ask, \n",
    "            'spread' : spread\n",
    "        }\n",
    "        \n",
    "        print(exchange.id, symbol, 'market price:\\n', market_price)\n",
    "        \n",
    "        if iteration > 0: \n",
    "            difference = {\n",
    "                'bid' : bid - symbols[symbol]['bid'], \n",
    "                'ask' : ask - symbols[symbol]['ask'],\n",
    "                'spread' : spread - symbols[symbol]['spread']\n",
    "            }\n",
    "            \n",
    "            print(difference)\n",
    "            \n",
    "        symbols[symbol] = market_price\n",
    "        \n",
    "        time.sleep(delay_seconds - (time.clock() - start_time))\n",
    "        \n",
    "    iteration +=1 "
   ]
  }
 ],
 "metadata": {
  "kernelspec": {
   "display_name": "Python 3",
   "language": "python",
   "name": "python3"
  },
  "language_info": {
   "codemirror_mode": {
    "name": "ipython",
    "version": 3
   },
   "file_extension": ".py",
   "mimetype": "text/x-python",
   "name": "python",
   "nbconvert_exporter": "python",
   "pygments_lexer": "ipython3",
   "version": "3.6.5"
  }
 },
 "nbformat": 4,
 "nbformat_minor": 2
}
